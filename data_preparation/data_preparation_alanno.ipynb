{
 "cells": [
  {
   "cell_type": "code",
   "execution_count": 1,
   "metadata": {},
   "outputs": [
    {
     "name": "stdout",
     "output_type": "stream",
     "text": [
      "/home/abaric/retriever-sentiment\n"
     ]
    }
   ],
   "source": [
    "# Locate to working directory\n",
    "%cd '/home/abaric/retriever-sentiment'"
   ]
  },
  {
   "cell_type": "code",
   "execution_count": 2,
   "metadata": {},
   "outputs": [],
   "source": [
    "import pandas as pd"
   ]
  },
  {
   "attachments": {},
   "cell_type": "markdown",
   "metadata": {},
   "source": [
    "# Sample data for annotation"
   ]
  },
  {
   "attachments": {},
   "cell_type": "markdown",
   "metadata": {},
   "source": [
    "### Import full retriever dump"
   ]
  },
  {
   "cell_type": "code",
   "execution_count": 7,
   "metadata": {},
   "outputs": [],
   "source": [
    "# Import full retriever dump\n",
    "retriever_dump = pd.read_csv('data/retriever/full_dump_20220825.csv')"
   ]
  },
  {
   "cell_type": "code",
   "execution_count": 8,
   "metadata": {},
   "outputs": [
    {
     "data": {
      "text/html": [
       "<div>\n",
       "<style scoped>\n",
       "    .dataframe tbody tr th:only-of-type {\n",
       "        vertical-align: middle;\n",
       "    }\n",
       "\n",
       "    .dataframe tbody tr th {\n",
       "        vertical-align: top;\n",
       "    }\n",
       "\n",
       "    .dataframe thead th {\n",
       "        text-align: right;\n",
       "    }\n",
       "</style>\n",
       "<table border=\"1\" class=\"dataframe\">\n",
       "  <thead>\n",
       "    <tr style=\"text-align: right;\">\n",
       "      <th></th>\n",
       "      <th>id</th>\n",
       "      <th>url</th>\n",
       "      <th>portal</th>\n",
       "      <th>date_published</th>\n",
       "      <th>title</th>\n",
       "      <th>body</th>\n",
       "    </tr>\n",
       "  </thead>\n",
       "  <tbody>\n",
       "    <tr>\n",
       "      <th>0</th>\n",
       "      <td>5079661</td>\n",
       "      <td>https://2012-transformacijasvijesti.com/zdravl...</td>\n",
       "      <td>2012-transformacijasvijesti.com</td>\n",
       "      <td>2018-02-06 00:00:00</td>\n",
       "      <td>Kurkuma čudo prirode: djeluje protuupalno, lij...</td>\n",
       "      <td>Kurkuma je biljka iz porodice đumbira, Zingibe...</td>\n",
       "    </tr>\n",
       "    <tr>\n",
       "      <th>1</th>\n",
       "      <td>5181194</td>\n",
       "      <td>https://2012-transformacijasvijesti.com/metafi...</td>\n",
       "      <td>2012-transformacijasvijesti.com</td>\n",
       "      <td>2011-02-21 00:00:00</td>\n",
       "      <td>Zen um: ne-um</td>\n",
       "      <td>Zen um je “prirodno” stanje našeg bića: Bez se...</td>\n",
       "    </tr>\n",
       "    <tr>\n",
       "      <th>2</th>\n",
       "      <td>5167014</td>\n",
       "      <td>https://2012-transformacijasvijesti.com/mikroc...</td>\n",
       "      <td>2012-transformacijasvijesti.com</td>\n",
       "      <td>2011-02-19 00:00:00</td>\n",
       "      <td>Čipiranje ljudi</td>\n",
       "      <td>Primjetio sam da mnogi nisu previse upoznati s...</td>\n",
       "    </tr>\n",
       "    <tr>\n",
       "      <th>3</th>\n",
       "      <td>5167153</td>\n",
       "      <td>https://2012-transformacijasvijesti.com/manipu...</td>\n",
       "      <td>2012-transformacijasvijesti.com</td>\n",
       "      <td>2011-10-11 00:00:00</td>\n",
       "      <td>Kontrola MEDIJA: Svi smo mi 12-godišnja Marina...</td>\n",
       "      <td>Pojedinac je hendikepiran kad se susreće s teo...</td>\n",
       "    </tr>\n",
       "    <tr>\n",
       "      <th>4</th>\n",
       "      <td>5102018</td>\n",
       "      <td>https://2012-transformacijasvijesti.com/korona...</td>\n",
       "      <td>2012-transformacijasvijesti.com</td>\n",
       "      <td>2020-05-23 00:00:00</td>\n",
       "      <td>INTERVJU Krešimir Mišak o koronavirusu, Bill G...</td>\n",
       "      <td>2. dio\\nOPĆA DEKLARACIJA O LJUDSKIM PRAVIMA – ...</td>\n",
       "    </tr>\n",
       "    <tr>\n",
       "      <th>...</th>\n",
       "      <td>...</td>\n",
       "      <td>...</td>\n",
       "      <td>...</td>\n",
       "      <td>...</td>\n",
       "      <td>...</td>\n",
       "      <td>...</td>\n",
       "    </tr>\n",
       "    <tr>\n",
       "      <th>9893406</th>\n",
       "      <td>7314536</td>\n",
       "      <td>https://vecernji.hr/vijesti/biraci-s-covid-19-...</td>\n",
       "      <td>vecernji.hr</td>\n",
       "      <td>2020-07-04 00:00:00</td>\n",
       "      <td>Birači s COVID-19 mogu glasati: Izbori u nikad...</td>\n",
       "      <td>Kako se sutrašnji izbori odvijaju u nikada do ...</td>\n",
       "    </tr>\n",
       "    <tr>\n",
       "      <th>9893407</th>\n",
       "      <td>7699651</td>\n",
       "      <td>https://vecernji.hr/vijesti/uzivo-pratite-reak...</td>\n",
       "      <td>vecernji.hr</td>\n",
       "      <td>2020-07-05 00:00:00</td>\n",
       "      <td>Vučemilović oštro o anketnim agencijama: 'Ovo ...</td>\n",
       "      <td>Danas od 7 sati glasovalo se na više od 6.500 ...</td>\n",
       "    </tr>\n",
       "    <tr>\n",
       "      <th>9893408</th>\n",
       "      <td>6544594</td>\n",
       "      <td>https://vecernji.hr/vijesti/hns-skoro-je-pjeva...</td>\n",
       "      <td>vecernji.hr</td>\n",
       "      <td>2020-06-20 00:00:00</td>\n",
       "      <td>HNS: 'Škoro je pjevač opasnih namjera, u total...</td>\n",
       "      <td>Maske su sada potpuno pale, Škoro je pjevač op...</td>\n",
       "    </tr>\n",
       "    <tr>\n",
       "      <th>9893409</th>\n",
       "      <td>5869030</td>\n",
       "      <td>https://vecernji.hr/sport/zverev-uvjerljivo-do...</td>\n",
       "      <td>vecernji.hr</td>\n",
       "      <td>2021-10-30 00:00:00</td>\n",
       "      <td>Zverev uvjerljivo do finala</td>\n",
       "      <td>Za 24-godišnjeg Nijemca ovo će biti peti final...</td>\n",
       "    </tr>\n",
       "    <tr>\n",
       "      <th>9893410</th>\n",
       "      <td>7318660</td>\n",
       "      <td>https://vecernji.hr/zagreb/vozaci-naoruzajte-s...</td>\n",
       "      <td>vecernji.hr</td>\n",
       "      <td>2019-09-09 00:00:00</td>\n",
       "      <td>Vozači, naoružajte se strpljenjem: Gužve na ro...</td>\n",
       "      <td>Gužve na remetinečkom rotoru, na kojem promet ...</td>\n",
       "    </tr>\n",
       "  </tbody>\n",
       "</table>\n",
       "<p>9893411 rows × 6 columns</p>\n",
       "</div>"
      ],
      "text/plain": [
       "              id                                                url  \\\n",
       "0        5079661  https://2012-transformacijasvijesti.com/zdravl...   \n",
       "1        5181194  https://2012-transformacijasvijesti.com/metafi...   \n",
       "2        5167014  https://2012-transformacijasvijesti.com/mikroc...   \n",
       "3        5167153  https://2012-transformacijasvijesti.com/manipu...   \n",
       "4        5102018  https://2012-transformacijasvijesti.com/korona...   \n",
       "...          ...                                                ...   \n",
       "9893406  7314536  https://vecernji.hr/vijesti/biraci-s-covid-19-...   \n",
       "9893407  7699651  https://vecernji.hr/vijesti/uzivo-pratite-reak...   \n",
       "9893408  6544594  https://vecernji.hr/vijesti/hns-skoro-je-pjeva...   \n",
       "9893409  5869030  https://vecernji.hr/sport/zverev-uvjerljivo-do...   \n",
       "9893410  7318660  https://vecernji.hr/zagreb/vozaci-naoruzajte-s...   \n",
       "\n",
       "                                  portal       date_published  \\\n",
       "0        2012-transformacijasvijesti.com  2018-02-06 00:00:00   \n",
       "1        2012-transformacijasvijesti.com  2011-02-21 00:00:00   \n",
       "2        2012-transformacijasvijesti.com  2011-02-19 00:00:00   \n",
       "3        2012-transformacijasvijesti.com  2011-10-11 00:00:00   \n",
       "4        2012-transformacijasvijesti.com  2020-05-23 00:00:00   \n",
       "...                                  ...                  ...   \n",
       "9893406                      vecernji.hr  2020-07-04 00:00:00   \n",
       "9893407                      vecernji.hr  2020-07-05 00:00:00   \n",
       "9893408                      vecernji.hr  2020-06-20 00:00:00   \n",
       "9893409                      vecernji.hr  2021-10-30 00:00:00   \n",
       "9893410                      vecernji.hr  2019-09-09 00:00:00   \n",
       "\n",
       "                                                     title  \\\n",
       "0        Kurkuma čudo prirode: djeluje protuupalno, lij...   \n",
       "1                                            Zen um: ne-um   \n",
       "2                                          Čipiranje ljudi   \n",
       "3        Kontrola MEDIJA: Svi smo mi 12-godišnja Marina...   \n",
       "4        INTERVJU Krešimir Mišak o koronavirusu, Bill G...   \n",
       "...                                                    ...   \n",
       "9893406  Birači s COVID-19 mogu glasati: Izbori u nikad...   \n",
       "9893407  Vučemilović oštro o anketnim agencijama: 'Ovo ...   \n",
       "9893408  HNS: 'Škoro je pjevač opasnih namjera, u total...   \n",
       "9893409                        Zverev uvjerljivo do finala   \n",
       "9893410  Vozači, naoružajte se strpljenjem: Gužve na ro...   \n",
       "\n",
       "                                                      body  \n",
       "0        Kurkuma je biljka iz porodice đumbira, Zingibe...  \n",
       "1        Zen um je “prirodno” stanje našeg bića: Bez se...  \n",
       "2        Primjetio sam da mnogi nisu previse upoznati s...  \n",
       "3        Pojedinac je hendikepiran kad se susreće s teo...  \n",
       "4        2. dio\\nOPĆA DEKLARACIJA O LJUDSKIM PRAVIMA – ...  \n",
       "...                                                    ...  \n",
       "9893406  Kako se sutrašnji izbori odvijaju u nikada do ...  \n",
       "9893407  Danas od 7 sati glasovalo se na više od 6.500 ...  \n",
       "9893408  Maske su sada potpuno pale, Škoro je pjevač op...  \n",
       "9893409  Za 24-godišnjeg Nijemca ovo će biti peti final...  \n",
       "9893410  Gužve na remetinečkom rotoru, na kojem promet ...  \n",
       "\n",
       "[9893411 rows x 6 columns]"
      ]
     },
     "execution_count": 8,
     "metadata": {},
     "output_type": "execute_result"
    }
   ],
   "source": [
    "retriever_dump"
   ]
  },
  {
   "attachments": {},
   "cell_type": "markdown",
   "metadata": {},
   "source": [
    "#### Get portal counts"
   ]
  },
  {
   "cell_type": "code",
   "execution_count": null,
   "metadata": {},
   "outputs": [],
   "source": [
    "retriever_dump['portal'].value_counts()"
   ]
  },
  {
   "attachments": {},
   "cell_type": "markdown",
   "metadata": {},
   "source": [
    "### Sample retriever dump"
   ]
  },
  {
   "attachments": {},
   "cell_type": "markdown",
   "metadata": {},
   "source": [
    "Generate sample"
   ]
  },
  {
   "cell_type": "code",
   "execution_count": null,
   "metadata": {},
   "outputs": [],
   "source": [
    "retriever_sample = retriever_dump.groupby(['portal', 'date_published'], group_keys=False).apply(lambda x: x.sample(frac=0.011))"
   ]
  },
  {
   "cell_type": "code",
   "execution_count": 16,
   "metadata": {},
   "outputs": [],
   "source": [
    "retriever_sample = retriever_dump.sample(n=100000)"
   ]
  },
  {
   "attachments": {},
   "cell_type": "markdown",
   "metadata": {},
   "source": [
    "Load sample (if exists)"
   ]
  },
  {
   "cell_type": "code",
   "execution_count": 3,
   "metadata": {},
   "outputs": [],
   "source": [
    "retriever_sample = pd.read_csv('data/retriever/sample_20220825.csv')"
   ]
  },
  {
   "attachments": {},
   "cell_type": "markdown",
   "metadata": {},
   "source": [
    "#### Get portal counts"
   ]
  },
  {
   "cell_type": "code",
   "execution_count": 20,
   "metadata": {},
   "outputs": [
    {
     "data": {
      "text/plain": [
       "tportal.hr                           0.27407\n",
       "index.hr                             0.11091\n",
       "vecernji.hr                          0.10860\n",
       "jutarnji.hr                          0.08530\n",
       "dnevnik.hr                           0.05953\n",
       "net.hr                               0.05449\n",
       "glas-slavonije.hr                    0.04659\n",
       "direktno.hr                          0.04491\n",
       "slobodnadalmacija.hr                 0.04059\n",
       "24sata.hr                            0.03915\n",
       "hr.n1info.com                        0.02874\n",
       "rtl.hr                               0.02559\n",
       "narod.hr                             0.01744\n",
       "hrt.hr                               0.01448\n",
       "dnevno.hr                            0.00997\n",
       "novilist.hr                          0.00830\n",
       "h-alter.org                          0.00727\n",
       "telegram.hr                          0.00484\n",
       "face.ba                              0.00360\n",
       "priznajem.hr                         0.00236\n",
       "teleskop.hr                          0.00137\n",
       "tris.com.hr                          0.00133\n",
       "geopolitika.news                     0.00132\n",
       "logicno.com                          0.00132\n",
       "intermagazin.rs                      0.00115\n",
       "lupiga.com                           0.00113\n",
       "hop.com.hr                           0.00098\n",
       "sbplus.hr                            0.00090\n",
       "crol.hr                              0.00067\n",
       "tribun.hr                            0.00065\n",
       "paraf.hr                             0.00057\n",
       "forum.tm                             0.00047\n",
       "liberal.hr                           0.00042\n",
       "svijetokonas.info                    0.00038\n",
       "2012-transformacijasvijesti.com      0.00027\n",
       "istinomprotivlazi.info               0.00025\n",
       "homunizam.wordpress.com              0.00004\n",
       "dokumentarac.hr                      0.00002\n",
       "novisvjetskiporedak.wordpress.com    0.00002\n",
       "srbnovine.blogspot.com               0.00001\n",
       "Name: portal, dtype: float64"
      ]
     },
     "execution_count": 20,
     "metadata": {},
     "output_type": "execute_result"
    }
   ],
   "source": [
    "retriever_sample['portal'].value_counts() / 100000"
   ]
  },
  {
   "cell_type": "code",
   "execution_count": 21,
   "metadata": {},
   "outputs": [
    {
     "data": {
      "text/plain": [
       "tportal.hr                           0.274119\n",
       "index.hr                             0.112078\n",
       "vecernji.hr                          0.108461\n",
       "jutarnji.hr                          0.083919\n",
       "dnevnik.hr                           0.060129\n",
       "net.hr                               0.054035\n",
       "glas-slavonije.hr                    0.046685\n",
       "direktno.hr                          0.044236\n",
       "slobodnadalmacija.hr                 0.041672\n",
       "24sata.hr                            0.039729\n",
       "hr.n1info.com                        0.028138\n",
       "rtl.hr                               0.024898\n",
       "narod.hr                             0.017979\n",
       "hrt.hr                               0.014154\n",
       "dnevno.hr                            0.010181\n",
       "novilist.hr                          0.008445\n",
       "h-alter.org                          0.006935\n",
       "telegram.hr                          0.005009\n",
       "face.ba                              0.003475\n",
       "priznajem.hr                         0.002164\n",
       "geopolitika.news                     0.001466\n",
       "teleskop.hr                          0.001423\n",
       "tris.com.hr                          0.001374\n",
       "logicno.com                          0.001278\n",
       "lupiga.com                           0.001197\n",
       "intermagazin.rs                      0.001047\n",
       "hop.com.hr                           0.001008\n",
       "sbplus.hr                            0.000986\n",
       "tribun.hr                            0.000773\n",
       "crol.hr                              0.000652\n",
       "paraf.hr                             0.000526\n",
       "svijetokonas.info                    0.000380\n",
       "liberal.hr                           0.000379\n",
       "forum.tm                             0.000357\n",
       "istinomprotivlazi.info               0.000291\n",
       "2012-transformacijasvijesti.com      0.000266\n",
       "homunizam.wordpress.com              0.000064\n",
       "dokumentarac.hr                      0.000046\n",
       "srbnovine.blogspot.com               0.000031\n",
       "novisvjetskiporedak.wordpress.com    0.000013\n",
       "Name: portal, dtype: float64"
      ]
     },
     "execution_count": 21,
     "metadata": {},
     "output_type": "execute_result"
    }
   ],
   "source": [
    "retriever_dump.portal.value_counts() / retriever_dump.shape[0]"
   ]
  },
  {
   "cell_type": "code",
   "execution_count": 22,
   "metadata": {},
   "outputs": [
    {
     "data": {
      "text/plain": [
       "<AxesSubplot:xlabel='date_published'>"
      ]
     },
     "execution_count": 22,
     "metadata": {},
     "output_type": "execute_result"
    },
    {
     "data": {
      "image/png": "[encoded data removed]",
      "text/plain": [
       "<Figure size 432x288 with 1 Axes>"
      ]
     },
     "metadata": {
      "needs_background": "light"
     },
     "output_type": "display_data"
    }
   ],
   "source": [
    "retriever_dump['date_published'] = retriever_dump['date_published'].astype(\"datetime64\")\n",
    "retriever_dump[\"date_published\"].groupby(retriever_dump[\"date_published\"].dt.year).count().plot(kind=\"bar\")"
   ]
  },
  {
   "cell_type": "code",
   "execution_count": 23,
   "metadata": {},
   "outputs": [
    {
     "data": {
      "text/plain": [
       "<AxesSubplot:xlabel='date_published'>"
      ]
     },
     "execution_count": 23,
     "metadata": {},
     "output_type": "execute_result"
    },
    {
     "data": {
      "image/png": "[encoded data removed]",
      "text/plain": [
       "<Figure size 432x288 with 1 Axes>"
      ]
     },
     "metadata": {
      "needs_background": "light"
     },
     "output_type": "display_data"
    }
   ],
   "source": [
    "retriever_sample['date_published'] = retriever_sample['date_published'].astype(\"datetime64\")\n",
    "retriever_sample[\"date_published\"].groupby(retriever_sample[\"date_published\"].dt.year).count().plot(kind=\"bar\")"
   ]
  },
  {
   "attachments": {},
   "cell_type": "markdown",
   "metadata": {},
   "source": [
    "Save CSV"
   ]
  },
  {
   "cell_type": "code",
   "execution_count": null,
   "metadata": {},
   "outputs": [],
   "source": [
    "retriever_sample.to_csv('data/sample_20220825.csv', index=False)"
   ]
  }
 ],
 "metadata": {
  "kernelspec": {
   "display_name": "news_sentiment_analysis",
   "language": "python",
   "name": "python3"
  },
  "language_info": {
   "codemirror_mode": {
    "name": "ipython",
    "version": 3
   },
   "file_extension": ".py",
   "mimetype": "text/x-python",
   "name": "python",
   "nbconvert_exporter": "python",
   "pygments_lexer": "ipython3",
   "version": "3.8.13"
  },
  "orig_nbformat": 4,
  "vscode": {
   "interpreter": {
    "hash": "580ed4c552a31dcc267fc5c50ca762b67fa9da7c5973d623a66aff125be5d655"
   }
  }
 },
 "nbformat": 4,
 "nbformat_minor": 2
}
