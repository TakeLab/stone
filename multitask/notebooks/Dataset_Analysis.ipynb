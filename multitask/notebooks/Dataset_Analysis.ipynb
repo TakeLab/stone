{
 "cells": [
  {
   "cell_type": "markdown",
   "metadata": {},
   "source": [
    "# Author: ddukic"
   ]
  },
  {
   "cell_type": "code",
   "execution_count": 1,
   "metadata": {},
   "outputs": [],
   "source": [
    "import pandas as pd"
   ]
  },
  {
   "cell_type": "code",
   "execution_count": 2,
   "metadata": {},
   "outputs": [],
   "source": [
    "# path for csvs are \"../data/raw/gold_label_local.csv\", \"../data/raw/stone_gold_label_train.csv\", \"../data/raw/stone_gold_label_valid.csv\", \"../data/raw/stone_gold_label_test.csv\"\n",
    "\n",
    "df = pd.read_csv(\"../data/raw/stone_gold_label_valid.csv\")"
   ]
  },
  {
   "cell_type": "code",
   "execution_count": 3,
   "metadata": {},
   "outputs": [],
   "source": [
    "df_filtered = df[\n",
    "    [\n",
    "        \"text\",\n",
    "        \"ner\",\n",
    "        \"ner_type\",\n",
    "        \"ner_begin\",\n",
    "        \"ner_end\",\n",
    "        \"aggregated_sentiment\",\n",
    "        \"aggregated_tone\",\n",
    "    ]\n",
    "]"
   ]
  },
  {
   "cell_type": "code",
   "execution_count": 4,
   "metadata": {},
   "outputs": [],
   "source": [
    "df_filtered = df_filtered.rename(\n",
    "    columns={\"aggregated_sentiment\": \"sentiment\", \"aggregated_tone\": \"tone\"}\n",
    ")"
   ]
  },
  {
   "cell_type": "code",
   "execution_count": 5,
   "metadata": {},
   "outputs": [
    {
     "data": {
      "text/html": [
       "<div>\n",
       "<style scoped>\n",
       "    .dataframe tbody tr th:only-of-type {\n",
       "        vertical-align: middle;\n",
       "    }\n",
       "\n",
       "    .dataframe tbody tr th {\n",
       "        vertical-align: top;\n",
       "    }\n",
       "\n",
       "    .dataframe thead th {\n",
       "        text-align: right;\n",
       "    }\n",
       "</style>\n",
       "<table border=\"1\" class=\"dataframe\">\n",
       "  <thead>\n",
       "    <tr style=\"text-align: right;\">\n",
       "      <th></th>\n",
       "      <th>text</th>\n",
       "      <th>ner</th>\n",
       "      <th>ner_type</th>\n",
       "      <th>ner_begin</th>\n",
       "      <th>ner_end</th>\n",
       "      <th>sentiment</th>\n",
       "      <th>tone</th>\n",
       "    </tr>\n",
       "  </thead>\n",
       "  <tbody>\n",
       "    <tr>\n",
       "      <th>0</th>\n",
       "      <td>Hrvatski nogometni savez produljio stanku za H...</td>\n",
       "      <td>Hrvatski nogometni savez</td>\n",
       "      <td>ORG</td>\n",
       "      <td>0</td>\n",
       "      <td>24</td>\n",
       "      <td>Sentiment - NEUTR</td>\n",
       "      <td>Ton - NEG</td>\n",
       "    </tr>\n",
       "    <tr>\n",
       "      <th>1</th>\n",
       "      <td>VRSALJKO PRED POTPISOM ZA VELIKANA: Stigao je ...</td>\n",
       "      <td>VELIKANA</td>\n",
       "      <td>PER</td>\n",
       "      <td>26</td>\n",
       "      <td>34</td>\n",
       "      <td>Sentiment - POZ</td>\n",
       "      <td>Ton - POZ</td>\n",
       "    </tr>\n",
       "    <tr>\n",
       "      <th>2</th>\n",
       "      <td>Osvanula nova fotka Pauline koja je zavela Jov...</td>\n",
       "      <td>Pauline</td>\n",
       "      <td>PER</td>\n",
       "      <td>20</td>\n",
       "      <td>27</td>\n",
       "      <td>Sentiment - NEG</td>\n",
       "      <td>Ton - NEG</td>\n",
       "    </tr>\n",
       "    <tr>\n",
       "      <th>3</th>\n",
       "      <td>Svjetsko prvenstvo za osobe s invaliditetom: M...</td>\n",
       "      <td>Svjetsko prvenstvo za osobe s invaliditetom</td>\n",
       "      <td>MISC</td>\n",
       "      <td>0</td>\n",
       "      <td>43</td>\n",
       "      <td>Sentiment - NEUTR</td>\n",
       "      <td>Ton - POZ</td>\n",
       "    </tr>\n",
       "    <tr>\n",
       "      <th>4</th>\n",
       "      <td>Eurosong: \"Lijepa Tena\" jedna od najgorih pjes...</td>\n",
       "      <td>Eurosong</td>\n",
       "      <td>MISC</td>\n",
       "      <td>0</td>\n",
       "      <td>8</td>\n",
       "      <td>Sentiment - NEUTR</td>\n",
       "      <td>Ton - NEG</td>\n",
       "    </tr>\n",
       "    <tr>\n",
       "      <th>...</th>\n",
       "      <td>...</td>\n",
       "      <td>...</td>\n",
       "      <td>...</td>\n",
       "      <td>...</td>\n",
       "      <td>...</td>\n",
       "      <td>...</td>\n",
       "      <td>...</td>\n",
       "    </tr>\n",
       "    <tr>\n",
       "      <th>457</th>\n",
       "      <td>'Aktivnosti na Savi' među najboljim projektima...</td>\n",
       "      <td>Almati</td>\n",
       "      <td>LOC</td>\n",
       "      <td>79</td>\n",
       "      <td>85</td>\n",
       "      <td>Sentiment - POZ</td>\n",
       "      <td>Ton - POZ</td>\n",
       "    </tr>\n",
       "    <tr>\n",
       "      <th>458</th>\n",
       "      <td>Više nećemo vraćati odjeću? Asos napokon uveo ...</td>\n",
       "      <td>Asos</td>\n",
       "      <td>MISC</td>\n",
       "      <td>28</td>\n",
       "      <td>32</td>\n",
       "      <td>Sentiment - POZ</td>\n",
       "      <td>Ton - POZ</td>\n",
       "    </tr>\n",
       "    <tr>\n",
       "      <th>459</th>\n",
       "      <td>Izraelca iznio suigrač da ga ne ozlijede bolni...</td>\n",
       "      <td>Izraelca</td>\n",
       "      <td>PER</td>\n",
       "      <td>0</td>\n",
       "      <td>8</td>\n",
       "      <td>Sentiment - NEUTR</td>\n",
       "      <td>Ton - POZ</td>\n",
       "    </tr>\n",
       "    <tr>\n",
       "      <th>460</th>\n",
       "      <td>Tudor ga voli, prvi mu je dao priliku, bio bi ...</td>\n",
       "      <td>Andrije Balića</td>\n",
       "      <td>PER</td>\n",
       "      <td>124</td>\n",
       "      <td>138</td>\n",
       "      <td>Sentiment - POZ</td>\n",
       "      <td>Ton - NEUTR</td>\n",
       "    </tr>\n",
       "    <tr>\n",
       "      <th>461</th>\n",
       "      <td>MAMIĆ OTKRIO UŽASNE VIJESTI ZA DINAMO I VATREN...</td>\n",
       "      <td>DINAMO</td>\n",
       "      <td>ORG</td>\n",
       "      <td>31</td>\n",
       "      <td>37</td>\n",
       "      <td>Sentiment - POZ</td>\n",
       "      <td>Ton - NEG</td>\n",
       "    </tr>\n",
       "  </tbody>\n",
       "</table>\n",
       "<p>462 rows × 7 columns</p>\n",
       "</div>"
      ],
      "text/plain": [
       "                                                  text  \\\n",
       "0    Hrvatski nogometni savez produljio stanku za H...   \n",
       "1    VRSALJKO PRED POTPISOM ZA VELIKANA: Stigao je ...   \n",
       "2    Osvanula nova fotka Pauline koja je zavela Jov...   \n",
       "3    Svjetsko prvenstvo za osobe s invaliditetom: M...   \n",
       "4    Eurosong: \"Lijepa Tena\" jedna od najgorih pjes...   \n",
       "..                                                 ...   \n",
       "457  'Aktivnosti na Savi' među najboljim projektima...   \n",
       "458  Više nećemo vraćati odjeću? Asos napokon uveo ...   \n",
       "459  Izraelca iznio suigrač da ga ne ozlijede bolni...   \n",
       "460  Tudor ga voli, prvi mu je dao priliku, bio bi ...   \n",
       "461  MAMIĆ OTKRIO UŽASNE VIJESTI ZA DINAMO I VATREN...   \n",
       "\n",
       "                                             ner ner_type  ner_begin  ner_end  \\\n",
       "0                       Hrvatski nogometni savez      ORG          0       24   \n",
       "1                                       VELIKANA      PER         26       34   \n",
       "2                                        Pauline      PER         20       27   \n",
       "3    Svjetsko prvenstvo za osobe s invaliditetom     MISC          0       43   \n",
       "4                                       Eurosong     MISC          0        8   \n",
       "..                                           ...      ...        ...      ...   \n",
       "457                                       Almati      LOC         79       85   \n",
       "458                                         Asos     MISC         28       32   \n",
       "459                                     Izraelca      PER          0        8   \n",
       "460                               Andrije Balića      PER        124      138   \n",
       "461                                       DINAMO      ORG         31       37   \n",
       "\n",
       "             sentiment         tone  \n",
       "0    Sentiment - NEUTR    Ton - NEG  \n",
       "1      Sentiment - POZ    Ton - POZ  \n",
       "2      Sentiment - NEG    Ton - NEG  \n",
       "3    Sentiment - NEUTR    Ton - POZ  \n",
       "4    Sentiment - NEUTR    Ton - NEG  \n",
       "..                 ...          ...  \n",
       "457    Sentiment - POZ    Ton - POZ  \n",
       "458    Sentiment - POZ    Ton - POZ  \n",
       "459  Sentiment - NEUTR    Ton - POZ  \n",
       "460    Sentiment - POZ  Ton - NEUTR  \n",
       "461    Sentiment - POZ    Ton - NEG  \n",
       "\n",
       "[462 rows x 7 columns]"
      ]
     },
     "execution_count": 5,
     "metadata": {},
     "output_type": "execute_result"
    }
   ],
   "source": [
    "df_filtered"
   ]
  },
  {
   "cell_type": "code",
   "execution_count": 6,
   "metadata": {},
   "outputs": [
    {
     "data": {
      "text/plain": [
       "(['Sentiment - NEUTR', 'Sentiment - POZ', 'Sentiment - NEG'],\n",
       " ['Ton - NEG', 'Ton - POZ', 'Ton - NEUTR'])"
      ]
     },
     "execution_count": 6,
     "metadata": {},
     "output_type": "execute_result"
    }
   ],
   "source": [
    "df_filtered.sentiment.unique().tolist(), df_filtered.tone.unique().tolist()"
   ]
  },
  {
   "cell_type": "code",
   "execution_count": 7,
   "metadata": {},
   "outputs": [],
   "source": [
    "df_filtered.to_csv(\"../data/processed/valid_gold.csv\", index=False)"
   ]
  }
 ],
 "metadata": {
  "kernelspec": {
   "display_name": "sentiment",
   "language": "python",
   "name": "python3"
  },
  "language_info": {
   "codemirror_mode": {
    "name": "ipython",
    "version": 3
   },
   "file_extension": ".py",
   "mimetype": "text/x-python",
   "name": "python",
   "nbconvert_exporter": "python",
   "pygments_lexer": "ipython3",
   "version": "3.10.9"
  },
  "orig_nbformat": 4,
  "vscode": {
   "interpreter": {
    "hash": "dd628ba32b46ebaf0b3cf119c9b255fef07ba7639dfdaeb8e53c12c6e3474c34"
   }
  }
 },
 "nbformat": 4,
 "nbformat_minor": 2
}
